{
 "cells": [
  {
   "cell_type": "code",
   "execution_count": 16,
   "id": "0c1993a0",
   "metadata": {
    "ExecuteTime": {
     "end_time": "2023-02-15T07:19:04.082002Z",
     "start_time": "2023-02-15T07:19:04.077002Z"
    }
   },
   "outputs": [],
   "source": [
    "import numpy as np\n",
    "import pandas as pd\n",
    "from datetime import datetime\n",
    "from collections import defaultdict, Counter\n",
    "import xgboost as xgb\n",
    "# from catboost import CatBoostClassifier, CatBoostRegressor\n",
    "from sklearn.model_selection import StratifiedKFold, KFold, GroupKFold\n",
    "from sklearn.metrics import accuracy_score, f1_score, roc_auc_score, log_loss, mean_squared_log_error\n",
    "from sklearn.feature_extraction.text import TfidfVectorizer, CountVectorizer\n",
    "from sklearn.decomposition import TruncatedSVD, PCA\n",
    "import tqdm\n",
    "import sys\n",
    "import os\n",
    "import gc\n",
    "import argparse\n",
    "import warnings\n",
    "warnings.filterwarnings('ignore')"
   ]
  },
  {
   "cell_type": "code",
   "execution_count": 17,
   "id": "bfd386ec",
   "metadata": {
    "ExecuteTime": {
     "end_time": "2023-02-15T07:19:05.154734Z",
     "start_time": "2023-02-15T07:19:04.083003Z"
    }
   },
   "outputs": [],
   "source": [
    "trans_info = pd.read_csv('../data/账户交易信息.csv')\n",
    "static_info = pd.read_csv('../data/账户静态信息.csv')\n",
    "\n",
    "train_label = pd.read_csv('../data/训练集标签.csv')\n",
    "test_label = pd.read_csv('../data/test_dataset.csv')"
   ]
  },
  {
   "cell_type": "code",
   "execution_count": 18,
   "id": "3c31670a",
   "metadata": {
    "ExecuteTime": {
     "end_time": "2023-02-15T07:19:05.160725Z",
     "start_time": "2023-02-15T07:19:05.156724Z"
    }
   },
   "outputs": [
    {
     "data": {
      "text/plain": [
       "'\\n账户代号\\tzhdh\\tCHAR(16)\\t6d8017a6f24eeb25\\n对方账号\\tdfzh\\tCHAR(16)\\t4eeb256d8017a6f2\\n借贷标志\\tjdbj\\tNUMBER\\t0-出账；1-入账\\n交易金额\\tjyje\\tNUMBER\\t35.6\\n交易余额\\tzhye\\tNUMBER\\t1035.6\\n对方行号\\tdfhh\\tCHAR(8)\\t0c5342ba\\n交易日期\\tjyrq\\tYYYY-MM-DD\\t2020-05-23\\n交易时间\\tjysj\\tHH:mm:ss\\t09:23:12\\n交易渠道\\tjyqd\\tCHAR(8)\\tcba76428\\n摘要代号\\tzydh\\tCHAR(8)\\tc092bf82\\n对方名称长度\\tdfmccd\\tINT\\t18\\n'"
      ]
     },
     "execution_count": 18,
     "metadata": {},
     "output_type": "execute_result"
    }
   ],
   "source": [
    "'''\n",
    "账户代号\tzhdh\tCHAR(16)\t6d8017a6f24eeb25\n",
    "对方账号\tdfzh\tCHAR(16)\t4eeb256d8017a6f2\n",
    "借贷标志\tjdbj\tNUMBER\t0-出账；1-入账\n",
    "交易金额\tjyje\tNUMBER\t35.6\n",
    "交易余额\tzhye\tNUMBER\t1035.6\n",
    "对方行号\tdfhh\tCHAR(8)\t0c5342ba\n",
    "交易日期\tjyrq\tYYYY-MM-DD\t2020-05-23\n",
    "交易时间\tjysj\tHH:mm:ss\t09:23:12\n",
    "交易渠道\tjyqd\tCHAR(8)\tcba76428\n",
    "摘要代号\tzydh\tCHAR(8)\tc092bf82\n",
    "对方名称长度\tdfmccd\tINT\t18\n",
    "'''"
   ]
  },
  {
   "cell_type": "code",
   "execution_count": 19,
   "id": "f2080723",
   "metadata": {
    "ExecuteTime": {
     "end_time": "2023-02-15T07:19:06.919791Z",
     "start_time": "2023-02-15T07:19:05.162726Z"
    }
   },
   "outputs": [
    {
     "name": "stdout",
     "output_type": "stream",
     "text": [
      "['jyrq_month', 'jyrq_day', 'jyrq_weekofyear', 'jyrq_dayofyear', 'jyrq_dayofweek', 'jyrq_is_wknd', 'jyrq_is_month_start', 'jyrq_is_month_end', 'jyrq_hour', 'jyrq_minu', 'jyrq_date']\n",
      "(1200, 2) (4800, 1)\n"
     ]
    }
   ],
   "source": [
    "def get_time_feature(df, col):\n",
    "    \n",
    "    df_copy = df.copy()\n",
    "    prefix = col + \"_\"\n",
    "    df_copy['new_'+col] = df_copy[col].astype(str)\n",
    "    \n",
    "    col = 'new_'+col\n",
    "    df_copy[col] = pd.to_datetime(df_copy[col], format='%Y-%m-%d')\n",
    "    df_copy[prefix + 'month'] = df_copy[col].dt.month\n",
    "    df_copy[prefix + 'day'] = df_copy[col].dt.day\n",
    "    df_copy[prefix + 'weekofyear'] = df_copy[col].dt.weekofyear\n",
    "    df_copy[prefix + 'dayofyear'] = df_copy[col].dt.dayofyear\n",
    "    df_copy[prefix + 'dayofweek'] = df_copy[col].dt.dayofweek\n",
    "    df_copy[prefix + 'is_wknd'] = df_copy[col].dt.dayofweek // 6\n",
    "    df_copy[prefix + 'is_month_start'] = df_copy[col].dt.is_month_start.astype(int)\n",
    "    df_copy[prefix + 'is_month_end'] = df_copy[col].dt.is_month_end.astype(int)\n",
    "    del df_copy[col]\n",
    "    \n",
    "    df_copy[prefix + 'hour'] = df_copy['jysj'].apply(lambda x:int(x.split(':')[0]))\n",
    "    df_copy[prefix + 'minu'] = df_copy['jysj'].apply(lambda x:int(x.split(':')[1]))\n",
    "    df_copy[prefix + 'date'] = df_copy['jysj'].apply(lambda x:int(x.split(':')[0])*60 + int(x.split(':')[1]))\n",
    "    \n",
    "    return df_copy   \n",
    "\n",
    "trans_info = get_time_feature(trans_info, \"jyrq\")\n",
    "time_cols = [f for f in trans_info.columns if 'jyrq_' in f]\n",
    "print(time_cols)\n",
    "print(train_label.shape, test_label.shape)"
   ]
  },
  {
   "cell_type": "code",
   "execution_count": 20,
   "id": "e8abd3c2",
   "metadata": {
    "ExecuteTime": {
     "end_time": "2023-02-15T07:19:19.170172Z",
     "start_time": "2023-02-15T07:19:06.920728Z"
    }
   },
   "outputs": [
    {
     "name": "stdout",
     "output_type": "stream",
     "text": [
      "Wall time: 12.2 s\n"
     ]
    }
   ],
   "source": [
    "%%time\n",
    "def get_base_feat(df1_, df2_):\n",
    "    df1 = df1_.copy() # 构建特征数据 \n",
    "    df2 = df2_.copy()\n",
    "\n",
    "    agg_func = {\n",
    "        'dfzh': ['nunique','count'],\n",
    "        'dfhh': ['nunique'],\n",
    "        'jyqd': ['nunique'],\n",
    "        'zydh': ['nunique'],\n",
    "        'jyje': ['sum','mean','max','min','std',np.ptp],\n",
    "        'zhye': ['sum','mean','max','min','std',np.ptp],\n",
    "        'dfmccd': ['mean','max','min','std',np.ptp],\n",
    "        \"jyrq\": [\"nunique\"]\n",
    "    }\n",
    "    \n",
    "    for col in time_cols:\n",
    "        agg_func[col] = ['mean','min','max',np.ptp]\n",
    "    \n",
    "    agg_df = df1[df1['jdbj']==0].groupby(['zhdh']).agg(agg_func).reset_index()\n",
    "    agg_df.columns = ['zhdh'] + ['zhdh_jdbj0_' + '_'.join(f).strip() for f in agg_df.columns.values if f[0] not in ['zhdh']]\n",
    "    df2 = df2.merge(agg_df, on=['zhdh'], how='left')\n",
    "    \n",
    "    agg_df = df1[df1['jdbj']==1].groupby(['zhdh']).agg(agg_func).reset_index()\n",
    "    agg_df.columns = ['zhdh'] + ['zhdh_jdbj1_' + '_'.join(f).strip() for f in agg_df.columns.values if f[0] not in ['zhdh']]\n",
    "    df2 = df2.merge(agg_df, on=['zhdh'], how='left')\n",
    "    \n",
    "    return df2\n",
    "\n",
    "train_label = get_base_feat(trans_info, train_label)\n",
    "test_label = get_base_feat(trans_info, test_label)"
   ]
  },
  {
   "cell_type": "code",
   "execution_count": 21,
   "id": "9d924ff1",
   "metadata": {
    "ExecuteTime": {
     "end_time": "2023-02-15T07:19:19.362178Z",
     "start_time": "2023-02-15T07:19:19.171165Z"
    }
   },
   "outputs": [
    {
     "name": "stdout",
     "output_type": "stream",
     "text": [
      "Wall time: 187 ms\n"
     ]
    }
   ],
   "source": [
    "%%time\n",
    "# 合并账户静态信息\n",
    "static_info['khrq']  = pd.to_datetime(static_info['khrq'], format='%Y-%m-%d')\n",
    "static_info['year']  = static_info['khrq'].dt.year\n",
    "static_info['month'] = static_info['khrq'].dt.month\n",
    "static_info['day']   = static_info['khrq'].dt.day\n",
    "\n",
    "# 自然数编码\n",
    "def label_encode(series):\n",
    "    unique = list(series.unique())\n",
    "    return series.map(dict(zip(\n",
    "        unique, range(series.nunique())\n",
    "    )))\n",
    "\n",
    "for col in ['khjgdh']:\n",
    "    static_info[col] = label_encode(static_info[col])\n",
    "\n",
    "keep_cols = ['zhdh','year','month','day','khjgdh','xb','年龄']\n",
    "\n",
    "train_label = train_label.merge(static_info[keep_cols], on=['zhdh'], how='left')\n",
    "test_label  = test_label.merge(static_info[keep_cols], on=['zhdh'], how='left')"
   ]
  },
  {
   "cell_type": "code",
   "execution_count": 22,
   "id": "961d5871",
   "metadata": {
    "ExecuteTime": {
     "end_time": "2023-02-15T07:19:19.367178Z",
     "start_time": "2023-02-15T07:19:19.363167Z"
    }
   },
   "outputs": [
    {
     "data": {
      "text/plain": [
       "140"
      ]
     },
     "execution_count": 22,
     "metadata": {},
     "output_type": "execute_result"
    }
   ],
   "source": [
    "cols = [f for f in train_label.columns if f not in ['zhdh','black_flag']]\n",
    "len(cols)"
   ]
  },
  {
   "cell_type": "code",
   "execution_count": 23,
   "id": "c918f553",
   "metadata": {
    "ExecuteTime": {
     "end_time": "2023-02-15T07:19:19.381175Z",
     "start_time": "2023-02-15T07:19:19.369164Z"
    }
   },
   "outputs": [],
   "source": [
    "def cv_model(clf, train_x, train_y, test_x, clf_name):\n",
    "    folds = 5\n",
    "    seed = 2023\n",
    "    kf = KFold(n_splits=folds, shuffle=True, random_state=seed)\n",
    "    \n",
    "    oof = np.zeros(train_x.shape[0])\n",
    "    predict = np.zeros(test_x.shape[0])\n",
    "\n",
    "    cv_scores = []\n",
    "\n",
    "    for i, (train_index, valid_index) in enumerate(kf.split(train_x, train_y)):\n",
    "        print('************************************ {} ************************************'.format(str(i+1)))\n",
    "        trn_x, trn_y, val_x, val_y = train_x.iloc[train_index], train_y[train_index], train_x.iloc[valid_index], train_y[valid_index]\n",
    "\n",
    "        if clf_name == \"lgb\":\n",
    "            train_matrix = clf.Dataset(trn_x, label=trn_y)\n",
    "            valid_matrix = clf.Dataset(val_x, label=val_y)\n",
    "\n",
    "            params = {\n",
    "                'boosting_type': 'gbdt',\n",
    "                'objective': 'binary',\n",
    "                'metric': 'auc',\n",
    "                'min_child_weight': 5,\n",
    "                'num_leaves': 2 ** 5,\n",
    "                'lambda_l2': 10,\n",
    "                'feature_fraction': 0.8,\n",
    "                'bagging_fraction': 0.8,\n",
    "                'bagging_freq': 4,\n",
    "                'learning_rate': 0.01,\n",
    "                'seed': 2020,\n",
    "                'n_jobs':8\n",
    "            }\n",
    "\n",
    "            model = clf.train(params, train_matrix, 10000, valid_sets=[train_matrix, valid_matrix], \n",
    "                              categorical_feature=[], verbose_eval=200, early_stopping_rounds=200)\n",
    "            val_pred = model.predict(val_x, num_iteration=model.best_iteration)\n",
    "            test_pred = model.predict(test_x, num_iteration=model.best_iteration)\n",
    "            \n",
    "            print(list(sorted(zip(features, model.feature_importance(\"gain\")), key=lambda x: x[1], reverse=True))[:20])\n",
    "                \n",
    "        if clf_name == \"xgb\":\n",
    "            train_matrix = clf.DMatrix(trn_x , label=trn_y)\n",
    "            valid_matrix = clf.DMatrix(val_x , label=val_y)\n",
    "            test_matrix = clf.DMatrix(test_x)\n",
    "            \n",
    "            params = {'booster': 'gbtree',\n",
    "                      'objective': 'binary:logistic',\n",
    "                      'eval_metric': 'auc',\n",
    "                      'gamma': 1,\n",
    "                      'min_child_weight': 1.5,\n",
    "                      'max_depth': 5,\n",
    "                      'lambda': 10,\n",
    "                      'subsample': 0.7,\n",
    "                      'colsample_bytree': 0.7,\n",
    "                      'colsample_bylevel': 0.7,\n",
    "                      'eta': 0.05,\n",
    "                      'tree_method': 'exact',\n",
    "                      'seed': 2020,\n",
    "                      'nthread': 8\n",
    "                      }\n",
    "            \n",
    "            watchlist = [(train_matrix, 'train'),(valid_matrix, 'eval')]\n",
    "            \n",
    "            model = clf.train(params, train_matrix, num_boost_round=10000, evals=watchlist, verbose_eval=1000, early_stopping_rounds=500)\n",
    "            val_pred  = model.predict(valid_matrix, ntree_limit=model.best_ntree_limit)\n",
    "            test_pred = model.predict(test_matrix , ntree_limit=model.best_ntree_limit)\n",
    "                 \n",
    "        if clf_name == \"cat\":\n",
    "            \n",
    "            model = clf(\n",
    "                        n_estimators=10000,\n",
    "                        random_seed=1024,\n",
    "                        eval_metric='AUC',\n",
    "                        learning_rate=0.05,\n",
    "                        max_depth=5,\n",
    "                        early_stopping_rounds=200,\n",
    "                        metric_period=500,\n",
    "                    )\n",
    "\n",
    "            model.fit(trn_x, trn_y, eval_set=(val_x, val_y),\n",
    "                      use_best_model=True,\n",
    "                      verbose=1)\n",
    "            \n",
    "            val_pred  = model.predict_proba(val_x)[:,1]\n",
    "            test_pred = model.predict_proba(test_x)[:,1]\n",
    "            \n",
    "        oof[valid_index] = val_pred\n",
    "        predict += test_pred / kf.n_splits\n",
    "        \n",
    "        cv_scores.append(roc_auc_score(val_y, val_pred))\n",
    "        print(cv_scores)\n",
    "       \n",
    "    return oof, predict"
   ]
  },
  {
   "cell_type": "code",
   "execution_count": 24,
   "id": "11065851",
   "metadata": {
    "ExecuteTime": {
     "end_time": "2023-02-15T07:19:24.778480Z",
     "start_time": "2023-02-15T07:19:19.382164Z"
    }
   },
   "outputs": [
    {
     "name": "stdout",
     "output_type": "stream",
     "text": [
      "************************************ 1 ************************************\n",
      "[0]\ttrain-auc:0.93345\teval-auc:0.93671\n",
      "[549]\ttrain-auc:0.99946\teval-auc:0.95935\n",
      "[0.967037037037037]\n",
      "************************************ 2 ************************************\n",
      "[0]\ttrain-auc:0.94168\teval-auc:0.91990\n",
      "[706]\ttrain-auc:0.99960\teval-auc:0.96176\n",
      "[0.967037037037037, 0.9657484595868068]\n",
      "************************************ 3 ************************************\n",
      "[0]\ttrain-auc:0.94455\teval-auc:0.89862\n",
      "[716]\ttrain-auc:0.99975\teval-auc:0.95017\n",
      "[0.967037037037037, 0.9657484595868068, 0.9533169533169532]\n",
      "************************************ 4 ************************************\n",
      "[0]\ttrain-auc:0.93706\teval-auc:0.94319\n",
      "[569]\ttrain-auc:0.99957\teval-auc:0.96565\n",
      "[0.967037037037037, 0.9657484595868068, 0.9533169533169532, 0.9726481929871761]\n",
      "************************************ 5 ************************************\n",
      "[0]\ttrain-auc:0.93910\teval-auc:0.90194\n",
      "[714]\ttrain-auc:0.99979\teval-auc:0.94769\n",
      "[0.967037037037037, 0.9657484595868068, 0.9533169533169532, 0.9726481929871761, 0.9493518518518519]\n"
     ]
    }
   ],
   "source": [
    "xgb_oof, xgb_pred = cv_model(xgb, train_label[cols], train_label['black_flag'], test_label[cols], 'xgb')"
   ]
  },
  {
   "cell_type": "code",
   "execution_count": 25,
   "id": "3172dd53",
   "metadata": {
    "ExecuteTime": {
     "end_time": "2023-02-15T07:19:24.802480Z",
     "start_time": "2023-02-15T07:19:24.779480Z"
    }
   },
   "outputs": [
    {
     "name": "stdout",
     "output_type": "stream",
     "text": [
      "0.40, 0.9049544384768573\n",
      "0.41, 0.9037109970537454\n",
      "0.42, 0.903485772194251\n",
      "0.43, 0.9045092838196287\n",
      "0.44, 0.9065629997075346\n",
      "0.45, 0.9073734365693865\n",
      "0.46, 0.9094444301160316\n",
      "0.47, 0.9100498185620272\n",
      "0.48, 0.9110949465559395\n",
      "0.49, 0.911926945719186\n",
      "0.50, 0.9129788219459677\n",
      "0.51, 0.9078823731755026\n",
      "0.52, 0.9076519335132887\n",
      "0.53, 0.9071853971691546\n",
      "0.54, 0.9058912102390363\n",
      "0.55, 0.9080098280098281\n",
      "0.56, 0.9067111855059884\n",
      "0.57, 0.907535829865927\n",
      "0.58, 0.9049188640973631\n",
      "0.59, 0.9022875051140178\n",
      "0.50, 0.9129788219459677\n"
     ]
    }
   ],
   "source": [
    "oof = xgb_oof\n",
    "scores = []; thresholds = []\n",
    "best_score = 0; best_threshold = 0\n",
    "\n",
    "for threshold in np.arange(0.4,0.6,0.01):\n",
    "    preds = (oof.reshape((-1))>threshold).astype('int')\n",
    "    m = f1_score(train_label['black_flag'].values.reshape((-1)), preds, average='macro')   \n",
    "    scores.append(m)\n",
    "    thresholds.append(threshold)\n",
    "    if m>best_score:\n",
    "        best_score = m\n",
    "        best_threshold = threshold\n",
    "    print(f'{threshold:.02f}, {m}')\n",
    "print(f'{best_threshold:.02f}, {best_score}')\n",
    "# 0.47, 0.9150898680694286 # 0.86579572447\n",
    "# 0.43, 0.9217716422203048 # 0.86697783\n",
    "# 0.41, 0.9198568108353592 # 0.87674418605\n",
    "# 0.40, 0.9231997065541027 # 0.87819025522\n",
    "# 0.42, 0.913822737200522  # 0.87639132982 \n",
    "# 0.40, 0.9148403872302214 # 0.88313184"
   ]
  },
  {
   "cell_type": "code",
   "execution_count": 26,
   "id": "fb29c481",
   "metadata": {
    "ExecuteTime": {
     "end_time": "2023-02-15T07:19:24.806482Z",
     "start_time": "2023-02-15T07:19:24.803479Z"
    }
   },
   "outputs": [],
   "source": [
    "pred = xgb_pred\n",
    "test_label['black_flag'] = (pred.reshape((-1))>best_threshold).astype('int')"
   ]
  },
  {
   "cell_type": "code",
   "execution_count": 27,
   "id": "cdbcb022",
   "metadata": {
    "ExecuteTime": {
     "end_time": "2023-02-15T07:19:24.822494Z",
     "start_time": "2023-02-15T07:19:24.807481Z"
    }
   },
   "outputs": [],
   "source": [
    "test_label[['zhdh','black_flag']].to_csv(\"../data/submit_%s.csv\" % datetime.now().strftime(\"%Y-%m-%dT%H-%M\"), index=False)"
   ]
  },
  {
   "cell_type": "code",
   "execution_count": 28,
   "id": "e812d760",
   "metadata": {
    "ExecuteTime": {
     "end_time": "2023-02-15T07:19:24.827494Z",
     "start_time": "2023-02-15T07:19:24.823480Z"
    }
   },
   "outputs": [
    {
     "data": {
      "text/plain": [
       "(0.2175, 0.25)"
      ]
     },
     "execution_count": 28,
     "metadata": {},
     "output_type": "execute_result"
    }
   ],
   "source": [
    "test_label['black_flag'].mean(), train_label['black_flag'].mean()"
   ]
  }
 ],
 "metadata": {
  "kernelspec": {
   "display_name": "Python 3",
   "language": "python",
   "name": "python3"
  },
  "language_info": {
   "codemirror_mode": {
    "name": "ipython",
    "version": 3
   },
   "file_extension": ".py",
   "mimetype": "text/x-python",
   "name": "python",
   "nbconvert_exporter": "python",
   "pygments_lexer": "ipython3",
   "version": "3.7.3"
  },
  "toc": {
   "base_numbering": 1,
   "nav_menu": {},
   "number_sections": true,
   "sideBar": true,
   "skip_h1_title": false,
   "title_cell": "Table of Contents",
   "title_sidebar": "Contents",
   "toc_cell": false,
   "toc_position": {},
   "toc_section_display": true,
   "toc_window_display": false
  },
  "varInspector": {
   "cols": {
    "lenName": 16,
    "lenType": 16,
    "lenVar": 40
   },
   "kernels_config": {
    "python": {
     "delete_cmd_postfix": "",
     "delete_cmd_prefix": "del ",
     "library": "var_list.py",
     "varRefreshCmd": "print(var_dic_list())"
    },
    "r": {
     "delete_cmd_postfix": ") ",
     "delete_cmd_prefix": "rm(",
     "library": "var_list.r",
     "varRefreshCmd": "cat(var_dic_list()) "
    }
   },
   "types_to_exclude": [
    "module",
    "function",
    "builtin_function_or_method",
    "instance",
    "_Feature"
   ],
   "window_display": false
  }
 },
 "nbformat": 4,
 "nbformat_minor": 5
}
