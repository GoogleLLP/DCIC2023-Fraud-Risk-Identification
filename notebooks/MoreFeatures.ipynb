{
 "cells": [
  {
   "cell_type": "markdown",
   "metadata": {},
   "source": [
    "<h2>定义部分：参考<a href=\"https://github.com/WangliLin/xunfei2021_car_loan_top1\">https://github.com/WangliLin/xunfei2021_car_loan_top1</a></h2>"
   ]
  },
  {
   "cell_type": "code",
   "execution_count": 1,
   "metadata": {
    "ExecuteTime": {
     "end_time": "2023-02-12T04:27:42.662020Z",
     "start_time": "2023-02-12T04:27:41.558515Z"
    }
   },
   "outputs": [],
   "source": [
    "from datetime import datetime\n",
    "import warnings\n",
    "warnings.filterwarnings('ignore')\n",
    "import pandas as pd\n",
    "import numpy as np\n",
    "import lightgbm as lgb\n",
    "from sklearn.metrics import roc_auc_score, auc, roc_curve, accuracy_score, f1_score\n",
    "from sklearn.model_selection import StratifiedKFold\n",
    "from tqdm import tqdm\n",
    "import pickle\n",
    "import logging\n",
    "logging.basicConfig(format='%(asctime)s : %(levelname)s : %(message)s', level=logging.INFO)\n",
    "import os\n",
    "from sklearn.preprocessing import StandardScaler, QuantileTransformer, KBinsDiscretizer, LabelEncoder, MinMaxScaler, PowerTransformer\n",
    "from sklearn.preprocessing import OrdinalEncoder\n",
    "\n",
    "def train_lgb_kfold(X_train, y_train, X_test, n_fold=5, cate_feats=None):\n",
    "    '''train lightgbm with k-fold split'''\n",
    "    gbms = []\n",
    "    kfold = StratifiedKFold(n_splits=n_fold, random_state=1024, shuffle=True)\n",
    "    oof_preds = np.zeros((X_train.shape[0],))\n",
    "    test_preds = np.zeros((X_test.shape[0],))\n",
    "\n",
    "    for fold, (train_index, val_index) in enumerate(kfold.split(X_train, y_train)):\n",
    "        logging.info(f'############ fold {fold} ###########')\n",
    "        X_tr, X_val, y_tr, y_val = X_train.iloc[train_index], X_train.iloc[val_index], y_train[train_index], y_train[val_index]\n",
    "        dtrain = lgb.Dataset(X_tr, y_tr, categorical_feature=cate_feats)\n",
    "        dvalid = lgb.Dataset(X_val, y_val, categorical_feature=cate_feats, reference=dtrain)\n",
    "\n",
    "        params = {\n",
    "            'objective': 'binary',\n",
    "            'metric': 'auc',\n",
    "            'num_leaves': 31,\n",
    "            'learning_rate': 0.05,\n",
    "            'min_data_in_leaf': 50,\n",
    "            'feature_fraction': 0.8,\n",
    "            'bagging_fraction': 0.8,\n",
    "            'n_jobs': -1,\n",
    "            'seed': 1024\n",
    "        }\n",
    "\n",
    "        gbm = lgb.train(params,\n",
    "                        dtrain,\n",
    "                        num_boost_round=300,\n",
    "                        valid_sets=[dtrain, dvalid],\n",
    "                        verbose_eval=50,\n",
    "                        early_stopping_rounds=20)\n",
    "\n",
    "        oof_preds[val_index] = gbm.predict(X_val, num_iteration=gbm.best_iteration)\n",
    "        test_preds += gbm.predict(X_test, num_iteration=gbm.best_iteration) / kfold.n_splits\n",
    "        gbms.append(gbm)\n",
    "\n",
    "    return gbms, oof_preds, test_preds"
   ]
  },
  {
   "cell_type": "markdown",
   "metadata": {},
   "source": [
    "<h2>读取数据部分</h2>"
   ]
  },
  {
   "cell_type": "code",
   "execution_count": 2,
   "metadata": {
    "ExecuteTime": {
     "end_time": "2023-02-12T04:27:44.087014Z",
     "start_time": "2023-02-12T04:27:42.663919Z"
    }
   },
   "outputs": [],
   "source": [
    "data = pd.read_csv('../data/账户交易信息.csv')\n",
    "data_static = pd.read_csv('../data/账户静态信息.csv')\n",
    "data_label = pd.read_csv('../data/训练集标签.csv')"
   ]
  },
  {
   "cell_type": "markdown",
   "metadata": {},
   "source": [
    "<h2>特征工程部分</h2>"
   ]
  },
  {
   "cell_type": "code",
   "execution_count": 3,
   "metadata": {
    "ExecuteTime": {
     "end_time": "2023-02-12T04:32:02.193684Z",
     "start_time": "2023-02-12T04:27:44.088917Z"
    }
   },
   "outputs": [
    {
     "name": "stderr",
     "output_type": "stream",
     "text": [
      "100%|████████████████████████████████████████████████████████████████████████████████| 6000/6000 [04:17<00:00, 23.27it/s]\n"
     ]
    }
   ],
   "source": [
    "d = {}\n",
    "users = data.zhdh.unique().tolist()\n",
    "for user_id in tqdm(users):\n",
    "    data_sample = data[data.zhdh == user_id].reset_index(drop=True)\n",
    "    all_cnt = data_sample.shape[0] # 操作次数\n",
    "    in_cnt = data_sample.jdbj.sum() # 转入次数、转出次数、转入次数占比\n",
    "    out_cnt = all_cnt - in_cnt\n",
    "    in_ratio = in_cnt / all_cnt\n",
    "    in_amt = data_sample[data_sample.jdbj == 1].jyje.sum() # 转入金额、转出金额、转入金额占比\n",
    "    out_amt = data_sample[data_sample.jdbj == 0].jyje.sum()\n",
    "    in_amt_ratio = in_amt / (in_amt + out_amt)\n",
    "    in_user_cnt = data_sample[data_sample.jdbj == 1].dfzh.nunique() # 转入人数、转出人数、转入人数占比\n",
    "    out_user_cnt = data_sample[data_sample.jdbj == 0].dfzh.nunique()\n",
    "    in_user_ratio = in_user_cnt / (in_user_cnt + out_user_cnt)\n",
    "    date_cnt = data_sample.jyrq.nunique() # 转账日期数\n",
    "    d[user_id] = [all_cnt, in_cnt, out_cnt, in_ratio, in_amt, out_amt, in_amt_ratio, in_user_cnt, out_user_cnt, in_user_ratio, date_cnt]\n",
    "\n",
    "data_df = pd.DataFrame.from_dict(d).T.reset_index()\n",
    "data_df.columns = ['zhdh', 'all_cnt', 'in_cnt', 'out_cnt', 'in_ratio', 'in_amt', 'out_amt', 'in_amt_ratio', 'in_user_cnt', 'out_user_cnt', 'in_user_ratio', 'date_cnt']"
   ]
  },
  {
   "cell_type": "markdown",
   "metadata": {},
   "source": [
    "<h2>合并标签部分</h2>"
   ]
  },
  {
   "cell_type": "code",
   "execution_count": 4,
   "metadata": {
    "ExecuteTime": {
     "end_time": "2023-02-12T04:32:02.208613Z",
     "start_time": "2023-02-12T04:32:02.195638Z"
    }
   },
   "outputs": [],
   "source": [
    "data_static.columns = ['zhdh', 'khrq', 'khjgdh', 'xb', 'age']\n",
    "df_feats = pd.merge(left=data_df, right=data_static[['zhdh', 'xb', 'age']], on='zhdh', how='left')\n",
    "df_final = pd.merge(left=df_feats, right=data_label, on='zhdh', how='left')"
   ]
  },
  {
   "cell_type": "markdown",
   "metadata": {},
   "source": [
    "<h2>准备数据集</h2>"
   ]
  },
  {
   "cell_type": "code",
   "execution_count": 5,
   "metadata": {
    "ExecuteTime": {
     "end_time": "2023-02-12T04:32:02.230867Z",
     "start_time": "2023-02-12T04:32:02.211101Z"
    }
   },
   "outputs": [],
   "source": [
    "df_train = df_final[df_final.black_flag.notnull()].reset_index(drop=True)\n",
    "df_test = df_final[df_final.black_flag.isnull()].reset_index(drop=True)\n",
    "\n",
    "feats = df_train.columns[1:-1].tolist()\n",
    "X_train = df_train[feats]\n",
    "y_train = df_train['black_flag']\n",
    "X_test = df_test[feats]"
   ]
  },
  {
   "cell_type": "markdown",
   "metadata": {},
   "source": [
    "<h2>开始训练</h2>"
   ]
  },
  {
   "cell_type": "code",
   "execution_count": 6,
   "metadata": {
    "ExecuteTime": {
     "end_time": "2023-02-12T04:32:03.281925Z",
     "start_time": "2023-02-12T04:32:02.234101Z"
    }
   },
   "outputs": [
    {
     "name": "stderr",
     "output_type": "stream",
     "text": [
      "2023-02-12 12:32:02,238 : INFO : ############ fold 0 ###########\n",
      "2023-02-12 12:32:02,374 : INFO : ############ fold 1 ###########\n"
     ]
    },
    {
     "name": "stdout",
     "output_type": "stream",
     "text": [
      "Training until validation scores don't improve for 20 rounds\n",
      "[50]\ttraining's auc: 0.982437\tvalid_1's auc: 0.972593\n",
      "Early stopping, best iteration is:\n",
      "[65]\ttraining's auc: 0.986927\tvalid_1's auc: 0.976667\n",
      "Training until validation scores don't improve for 20 rounds\n",
      "Early stopping, best iteration is:\n",
      "[8]\ttraining's auc: 0.962659\tvalid_1's auc: 0.952037\n"
     ]
    },
    {
     "name": "stderr",
     "output_type": "stream",
     "text": [
      "2023-02-12 12:32:02,440 : INFO : ############ fold 2 ###########\n",
      "2023-02-12 12:32:02,582 : INFO : ############ fold 3 ###########\n",
      "2023-02-12 12:32:02,636 : INFO : ############ fold 4 ###########\n"
     ]
    },
    {
     "name": "stdout",
     "output_type": "stream",
     "text": [
      "Training until validation scores don't improve for 20 rounds\n",
      "[50]\ttraining's auc: 0.984742\tvalid_1's auc: 0.930741\n",
      "[100]\ttraining's auc: 0.995917\tvalid_1's auc: 0.938889\n",
      "Early stopping, best iteration is:\n",
      "[81]\ttraining's auc: 0.992625\tvalid_1's auc: 0.94037\n",
      "Training until validation scores don't improve for 20 rounds\n",
      "Early stopping, best iteration is:\n",
      "[7]\ttraining's auc: 0.957394\tvalid_1's auc: 0.933333\n",
      "Training until validation scores don't improve for 20 rounds"
     ]
    },
    {
     "name": "stderr",
     "output_type": "stream",
     "text": [
      "2023-02-12 12:32:02,728 : INFO : ############ fold 5 ###########\n"
     ]
    },
    {
     "name": "stdout",
     "output_type": "stream",
     "text": [
      "\n",
      "[50]\ttraining's auc: 0.983489\tvalid_1's auc: 0.911111\n",
      "Early stopping, best iteration is:\n",
      "[36]\ttraining's auc: 0.977867\tvalid_1's auc: 0.915926\n",
      "Training until validation scores don't improve for 20 rounds\n",
      "[50]\ttraining's auc: 0.982899\tvalid_1's auc: 0.966296\n",
      "Early stopping, best iteration is:\n",
      "[59]\ttraining's auc: 0.985693\tvalid_1's auc: 0.971481\n"
     ]
    },
    {
     "name": "stderr",
     "output_type": "stream",
     "text": [
      "2023-02-12 12:32:02,844 : INFO : ############ fold 6 ###########\n",
      "2023-02-12 12:32:02,905 : INFO : ############ fold 7 ###########\n",
      "2023-02-12 12:32:02,982 : INFO : ############ fold 8 ###########\n"
     ]
    },
    {
     "name": "stdout",
     "output_type": "stream",
     "text": [
      "Training until validation scores don't improve for 20 rounds\n",
      "Early stopping, best iteration is:\n",
      "[11]\ttraining's auc: 0.962078\tvalid_1's auc: 0.926481\n",
      "Training until validation scores don't improve for 20 rounds\n",
      "[50]\ttraining's auc: 0.984737\tvalid_1's auc: 0.948889\n",
      "Early stopping, best iteration is:\n",
      "[30]\ttraining's auc: 0.975665\tvalid_1's auc: 0.94963\n",
      "Training until validation scores don't improve for 20 rounds\n",
      "[50]\ttraining's auc: 0.984047\tvalid_1's auc: 0.921111"
     ]
    },
    {
     "name": "stderr",
     "output_type": "stream",
     "text": [
      "2023-02-12 12:32:03,130 : INFO : ############ fold 9 ###########\n"
     ]
    },
    {
     "name": "stdout",
     "output_type": "stream",
     "text": [
      "\n",
      "Early stopping, best iteration is:\n",
      "[78]\ttraining's auc: 0.991742\tvalid_1's auc: 0.926296\n",
      "Training until validation scores don't improve for 20 rounds\n",
      "[50]\ttraining's auc: 0.982286\tvalid_1's auc: 0.977407\n",
      "Early stopping, best iteration is:\n",
      "[73]\ttraining's auc: 0.989072\tvalid_1's auc: 0.984074\n"
     ]
    }
   ],
   "source": [
    "gbms, oof_preds, test_preds = train_lgb_kfold(X_train, y_train, X_test, n_fold=5)"
   ]
  },
  {
   "cell_type": "markdown",
   "metadata": {},
   "source": [
    "<h2>搜索最优阈值</h2>"
   ]
  },
  {
   "cell_type": "code",
   "execution_count": 7,
   "metadata": {
    "ExecuteTime": {
     "end_time": "2023-02-12T04:32:03.381600Z",
     "start_time": "2023-02-12T04:32:03.285102Z"
    }
   },
   "outputs": [
    {
     "name": "stdout",
     "output_type": "stream",
     "text": [
      "阈值: 0.31801314355750926\n",
      "训练集的f1: 0.8743046665782968\n"
     ]
    }
   ],
   "source": [
    "def gen_thres_new(df_train, oof_preds):\n",
    "    df_train['oof_preds'] = oof_preds\n",
    "    quantile_point = df_train['black_flag'].mean()\n",
    "    thres = df_train['oof_preds'].quantile(1 - quantile_point)\n",
    "\n",
    "    _thresh = []\n",
    "    for thres_item in np.arange(thres - 0.2, thres + 0.2, 0.01):\n",
    "        _thresh.append(\n",
    "            [thres_item, f1_score(df_train['black_flag'], np.where(oof_preds > thres_item, 1, 0), average='macro')])\n",
    "\n",
    "    _thresh = np.array(_thresh)\n",
    "    best_id = _thresh[:, 1].argmax()\n",
    "    best_thresh = _thresh[best_id][0]\n",
    "\n",
    "    print(\"阈值: {}\\n训练集的f1: {}\".format(best_thresh, _thresh[best_id][1]))\n",
    "    return best_thresh\n",
    "\n",
    "best_thresh = gen_thres_new(df_train, oof_preds)"
   ]
  },
  {
   "cell_type": "markdown",
   "metadata": {},
   "source": [
    "<h2>生成提交结果</h2>"
   ]
  },
  {
   "cell_type": "code",
   "execution_count": 8,
   "metadata": {
    "ExecuteTime": {
     "end_time": "2023-02-12T04:32:03.401600Z",
     "start_time": "2023-02-12T04:32:03.384602Z"
    }
   },
   "outputs": [],
   "source": [
    "df_test['black_flag'] = np.where(test_preds > best_thresh, 1, 0)\n",
    "df_test[['zhdh', 'black_flag']].to_csv(\"../data/submit_%s.csv\" % datetime.now().strftime(\"%Y-%m-%dT%H-%M\"))"
   ]
  },
  {
   "cell_type": "code",
   "execution_count": null,
   "metadata": {},
   "outputs": [],
   "source": []
  }
 ],
 "metadata": {
  "kernelspec": {
   "display_name": "Python 3",
   "language": "python",
   "name": "python3"
  },
  "language_info": {
   "codemirror_mode": {
    "name": "ipython",
    "version": 3
   },
   "file_extension": ".py",
   "mimetype": "text/x-python",
   "name": "python",
   "nbconvert_exporter": "python",
   "pygments_lexer": "ipython3",
   "version": "3.7.3"
  },
  "toc": {
   "base_numbering": 1,
   "nav_menu": {},
   "number_sections": true,
   "sideBar": true,
   "skip_h1_title": false,
   "title_cell": "Table of Contents",
   "title_sidebar": "Contents",
   "toc_cell": false,
   "toc_position": {},
   "toc_section_display": true,
   "toc_window_display": false
  },
  "varInspector": {
   "cols": {
    "lenName": 16,
    "lenType": 16,
    "lenVar": 40
   },
   "kernels_config": {
    "python": {
     "delete_cmd_postfix": "",
     "delete_cmd_prefix": "del ",
     "library": "var_list.py",
     "varRefreshCmd": "print(var_dic_list())"
    },
    "r": {
     "delete_cmd_postfix": ") ",
     "delete_cmd_prefix": "rm(",
     "library": "var_list.r",
     "varRefreshCmd": "cat(var_dic_list()) "
    }
   },
   "types_to_exclude": [
    "module",
    "function",
    "builtin_function_or_method",
    "instance",
    "_Feature"
   ],
   "window_display": false
  }
 },
 "nbformat": 4,
 "nbformat_minor": 4
}
